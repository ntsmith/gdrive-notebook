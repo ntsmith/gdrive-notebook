{
 "cells": [
  {
   "cell_type": "code",
   "execution_count": null,
   "metadata": {},
   "outputs": [],
   "source": [
    "from googleapiclient.discovery import build\n",
    "from google_auth_oauthlib.flow import InstalledAppFlow\n",
    "from util import printFiles, depthFirstPrint"
   ]
  },
  {
   "cell_type": "code",
   "execution_count": null,
   "metadata": {},
   "outputs": [],
   "source": [
    "credentials_file = \"client_secret.json\"\n",
    "scopes = [ \"https://www.googleapis.com/auth/drive.readonly\" ]"
   ]
  },
  {
   "cell_type": "code",
   "execution_count": null,
   "metadata": {},
   "outputs": [],
   "source": [
    "flow = InstalledAppFlow.from_client_secrets_file(\n",
    "  credentials_file, scopes=scopes\n",
    ")\n",
    "credentials = flow.run_local_server(port=0)"
   ]
  },
  {
   "cell_type": "code",
   "execution_count": null,
   "metadata": {},
   "outputs": [],
   "source": [
    "drive_service = build(\"drive\", \"v3\", credentials=credentials)\n",
    "files = drive_service.files()\n",
    "fields = \"id, name, parents, ownedByMe, sharingUser\" # Used by files.get\n",
    "listFields = f'nextPageToken, files({fields})'       # Used by files.list"
   ]
  },
  {
   "cell_type": "code",
   "execution_count": null,
   "metadata": {},
   "outputs": [],
   "source": [
    "# Get list of files returned by drive\n",
    "file_list = list()\n",
    "next_list = files.list(fields=listFields).execute()\n",
    "file_list.extend(next_list['files'])\n",
    "while 'nextPageToken' in next_list and next_list['nextPageToken']:\n",
    "  next_list = files.list(fields=listFields, pageToken=next_list['nextPageToken']).execute()\n",
    "  file_list.extend(next_list['files'])\n",
    "fileById = {f['id']: f for f in file_list}"
   ]
  },
  {
   "cell_type": "code",
   "execution_count": null,
   "metadata": {},
   "outputs": [],
   "source": [
    "# Get metadadata on parents not included in files.list (just 'My Drive')\n",
    "fids = list(fileById.keys())\n",
    "while len(fids) > 0:\n",
    "    fid = fids.pop()\n",
    "    f = fileById[fid]\n",
    "    if 'parents' in f:\n",
    "        [pid] = f['parents']\n",
    "        if pid not in fileById:\n",
    "            fids.append(pid)\n",
    "            fileById[pid] = files.get(fileId=pid, fields=fields).execute()"
   ]
  },
  {
   "cell_type": "code",
   "execution_count": null,
   "metadata": {},
   "outputs": [],
   "source": [
    "# Initialize and assign list of children\n",
    "for f in fileById.values():\n",
    "  f['children'] = list()\n",
    "for fid, f in fileById.items():\n",
    "  if 'parents' in f:\n",
    "    [pid] = f['parents']\n",
    "    fileById[pid]['children'].append(fid)"
   ]
  },
  {
   "cell_type": "code",
   "execution_count": null,
   "metadata": {},
   "outputs": [],
   "source": [
    "# Find files without parents ()\n",
    "myRoots = list()      # Just 'My Drive'\n",
    "otherRoots = list()   # Files shared with me.\n",
    "for f in fileById.values():\n",
    "    if 'parents' not in f:\n",
    "        if f['ownedByMe']:\n",
    "            myRoots.append(f)\n",
    "        else:\n",
    "            otherRoots.append(f)"
   ]
  },
  {
   "cell_type": "code",
   "execution_count": null,
   "metadata": {},
   "outputs": [],
   "source": [
    "for root in myRoots + otherRoots:\n",
    "    print(f'Printing {root[\"id\"]}')\n",
    "    depthFirstPrint(root['id'], fileById)"
   ]
  },
  {
   "cell_type": "code",
   "execution_count": null,
   "metadata": {},
   "outputs": [],
   "source": [
    "myRoots"
   ]
  },
  {
   "cell_type": "code",
   "execution_count": null,
   "metadata": {},
   "outputs": [],
   "source": [
    "otherRoots"
   ]
  },
  {
   "cell_type": "code",
   "execution_count": null,
   "metadata": {},
   "outputs": [],
   "source": [
    "print(f'There are {len(noParent)} files with no parent')\n",
    "printFiles(noParent)"
   ]
  },
  {
   "cell_type": "code",
   "execution_count": null,
   "metadata": {},
   "outputs": [],
   "source": [
    "print(f'There are {len(sharedWithMe)} files shared with me')\n",
    "printFiles(sharedWithMe)"
   ]
  },
  {
   "cell_type": "code",
   "execution_count": null,
   "metadata": {},
   "outputs": [],
   "source": [
    "print(f'There are {len(externalParent)} files with an external parent')\n",
    "printFiles(externalParent)"
   ]
  },
  {
   "cell_type": "code",
   "execution_count": null,
   "metadata": {},
   "outputs": [],
   "source": [
    "print(f'There are {len(sharedWithOther)} files that I have shared with others')\n",
    "printFiles(sharedWithOther)"
   ]
  },
  {
   "cell_type": "code",
   "execution_count": null,
   "metadata": {},
   "outputs": [],
   "source": [
    "files.listLabels(fileId=p_id).execute()"
   ]
  },
  {
   "cell_type": "code",
   "execution_count": null,
   "metadata": {},
   "outputs": [],
   "source": [
    "f = files.get(fileId=file0['id']).execute()\n",
    "f"
   ]
  }
 ],
 "metadata": {
  "kernelspec": {
   "display_name": "Python 3",
   "language": "python",
   "name": "python3"
  },
  "language_info": {
   "codemirror_mode": {
    "name": "ipython",
    "version": 3
   },
   "file_extension": ".py",
   "mimetype": "text/x-python",
   "name": "python",
   "nbconvert_exporter": "python",
   "pygments_lexer": "ipython3",
   "version": "3.11.6"
  }
 },
 "nbformat": 4,
 "nbformat_minor": 2
}
